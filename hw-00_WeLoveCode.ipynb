{
 "cells": [
  {
   "cell_type": "markdown",
   "metadata": {},
   "source": [
    "# <img style=\"float: left; padding-right: 10px; width: 200px\" src=\"https://raw.githubusercontent.com/trivikverma/researchgroup/master/assets/media/logo.png\"> EPA-122A *Spatial* Data Science \n",
    "\n",
    "\n",
    "## Homework 0: Introduction to Python and its Numerical Stack\n",
    "\n",
    "**TU Delft**<br>\n",
    "**Q2 2023**<br>\n",
    "**Instructor:** Trivik Verma <br>\n",
    "**[Centre for Urban Science & Policy]( https://cusp.tbm.tudelft.nl/)** <br>\n",
    "\n",
    "\n",
    "---\n",
    "\n"
   ]
  },
  {
   "cell_type": "markdown",
   "metadata": {
    "tags": []
   },
   "source": [
    "# Homework Exercises"
   ]
  },
  {
   "cell_type": "markdown",
   "metadata": {},
   "source": [
    "## Exercise 1\n",
    "### Write a properly documented function with the following behaviour:\n",
    "\n",
    "- It has a meaningful name (i.e. it is related to its behaviour).\n",
    "- It takes an integer that represents the length of a sequence that will be created.\n",
    "- It creates a dictionary that is empty.\n",
    "- It loops over the sequence and stores each number as the key of an entry in the dictionary, assigning either \"odd\" or \"even\" to the value, depending on the type of number.\n",
    "\n",
    "- Returns the dictionary."
   ]
  },
  {
   "cell_type": "code",
   "execution_count": 128,
   "metadata": {},
   "outputs": [],
   "source": [
    "# your code here\n",
    "\n",
    "def create_odd_even_dictionary(n):\n",
    "    dictionary= dict()\n",
    "\n",
    "    #loop\n",
    "    for i in range(n):\n",
    "        #check even/odd\n",
    "        if i%2 == 0:\n",
    "            dictionary[i]= \"even\"\n",
    "        else: \n",
    "            dictionary[i]= \"odd\"\n",
    "\n",
    "    #return result\n",
    "    return dictionary"
   ]
  },
  {
   "cell_type": "code",
   "execution_count": 129,
   "metadata": {},
   "outputs": [
    {
     "data": {
      "text/plain": [
       "{0: 'even', 1: 'odd', 2: 'even', 3: 'odd', 4: 'even', 5: 'odd', 6: 'even'}"
      ]
     },
     "execution_count": 129,
     "metadata": {},
     "output_type": "execute_result"
    }
   ],
   "source": [
    "#Try dictionary for random number\n",
    "create_odd_even_dictionary(7)"
   ]
  },
  {
   "cell_type": "markdown",
   "metadata": {},
   "source": [
    "## Exercise 2\n",
    "### Create a tuple called `tup` with the following seven objects: \n",
    "\n",
    "- The first element is an integer of your choice\n",
    "- The second element is a float of your choice  \n",
    "- The third element is the sum of the first two elements\n",
    "- The fourth element is the difference of the first two elements\n",
    "- The fifth element is the first element divided by the second element\n",
    "\n",
    "- Display the output of `tup`.  What is the type of the variable `tup`? What happens if you try and chage an item in the tuple? "
   ]
  },
  {
   "cell_type": "code",
   "execution_count": 133,
   "metadata": {},
   "outputs": [
    {
     "name": "stdout",
     "output_type": "stream",
     "text": [
      "(5, 2.5, 7.5, 2.5, 2.0)\n"
     ]
    },
    {
     "data": {
      "text/plain": [
       "tuple"
      ]
     },
     "execution_count": 133,
     "metadata": {},
     "output_type": "execute_result"
    }
   ],
   "source": [
    "# your code here\n",
    "#code student 1\n",
    "a = 6\n",
    "b = 1.7\n",
    "tup_1 = a, b, a + b, abs(a - b), a/b\n",
    "\n",
    "#code student 2\n",
    "num1 = 5 \n",
    "num2 = 2.5\n",
    "num3 = num1 + num2 \n",
    "num4 = num1 - num2 \n",
    "num5 = num1 / num2 \n",
    "\n",
    "tup_2 = (num1, num2, num3, num4, num5)\n",
    "\n",
    "# we combined two different codes: code 2 is missing the difference of the 2 elements, but is clearer\n",
    "\n",
    "n1 = 5 \n",
    "n2 = 2.5\n",
    "n3 = n1 + n2 \n",
    "n4 = abs(n1 - n2) \n",
    "n5 = n1 / n2 \n",
    "tup = (n1, n2, n3, n4, n5)\n",
    "print(tup)\n",
    "type(tup)"
   ]
  },
  {
   "cell_type": "code",
   "execution_count": 134,
   "metadata": {},
   "outputs": [
    {
     "name": "stdout",
     "output_type": "stream",
     "text": [
      "(5, 2.5, 7.5, 2.5, 2.0)\n"
     ]
    }
   ],
   "source": [
    "#what happens when you change a number in tup?\n",
    "n2 = 3.5\n",
    "print(tup)\n",
    "#prints the same as the first tup, numbers cannot be changed"
   ]
  },
  {
   "cell_type": "markdown",
   "metadata": {},
   "source": [
    "## Exercise 3\n",
    "### Build a list that contains every prime number between 1 and 100, in two different ways:\n",
    "    \n",
    "1. Using for loops and conditional if statements.\n",
    "2. **(Stretch Goal)** Using a list comprehension.  You should be able to do this in one line of code. **Hint:** it might help to look up the function `all()` in the documentation."
   ]
  },
  {
   "cell_type": "code",
   "execution_count": 26,
   "metadata": {},
   "outputs": [
    {
     "name": "stdout",
     "output_type": "stream",
     "text": [
      "all primes in range using for loops and conditinal if statements are:\n",
      "[2, 3, 5, 7, 11, 13, 17, 19, 23, 29, 31, 37, 41, 43, 47, 53, 59, 61, 67, 71, 73, 79, 83, 89, 97]\n",
      "all primes in range using list comprehension are:\n",
      "[2, 3, 5, 7, 11, 13, 17, 19, 23, 29, 31, 37, 41, 43, 47, 53, 59, 61, 67, 71, 73, 79, 83, 89, 97]\n"
     ]
    }
   ],
   "source": [
    "# your code here\n",
    "# 1. prime numbers using for loops and if statements\n",
    "#set bounds\n",
    "lower_bound = 1\n",
    "upper_bound = 100\n",
    "\n",
    "#make list \n",
    "prime_in_range = []\n",
    "\n",
    "#if statements\n",
    "for num in range(lower_bound, upper_bound + 1):\n",
    "    if num > 1:\n",
    "        for i in range(2,num): #test if value has a factor besides itself\n",
    "            if (num % i) == 0: \n",
    "                break\n",
    "        else:\n",
    "            prime_in_range.append(num)\n",
    "\n",
    "#print list\n",
    "print(\"all primes in range using for loops and conditinal if statements are:\")  \n",
    "print(prime_in_range)\n",
    "\n",
    "# 2. prime numbers using list comprehension\n",
    "range_prime =  [i for i in range(lower_bound, upper_bound + 1) if i>1 if all(i % num != 0 for num in range(2, i))]\n",
    "print(\"all primes in range using list comprehension are:\") \n",
    "print(range_prime)\n",
    "\n",
    "# we chose this code because other students used a python extension to define the primes instead of loopsif statements"
   ]
  },
  {
   "cell_type": "markdown",
   "metadata": {},
   "source": [
    "## Exercise 4\n",
    "### Write a function to test the \"prime-ness\" of a number.\n",
    "    \n",
    "In Exercise 4, above, you wrote code that generated a list of the prime numbers between 1 and 100. Now, write a function called `isprime()` that takes in a positive integer $N$, and determines whether or not it is prime.  Return `True` if it's prime and return `False` if it isn't. Then, using a list comprehension and `isprime()`, create a list `myprimes` that contains all the prime numbers less than 100.  "
   ]
  },
  {
   "cell_type": "code",
   "execution_count": 135,
   "metadata": {},
   "outputs": [
    {
     "name": "stdout",
     "output_type": "stream",
     "text": [
      "[2, 3, 5, 7, 11, 13, 17, 19, 23, 29, 31, 37, 41, 43, 47, 53, 59, 61, 67, 71, 73, 79, 83, 89, 97]\n"
     ]
    }
   ],
   "source": [
    "# your code here\n",
    "\n",
    "def isprime(N):\n",
    "    if N < 2:\n",
    "        return False\n",
    "    for i in range(2, int(N**0.5) + 1): #define prime number\n",
    "        if N % i == 0: #only divisable by other numbers than N\n",
    "            return False\n",
    "    return True\n",
    "\n",
    "# list of primes using list comprehension\n",
    "myprimes = [i for i in range(lower_bound, upper_bound + 1) if isprime(i)]\n",
    "print(myprimes)\n"
   ]
  },
  {
   "cell_type": "markdown",
   "metadata": {},
   "source": [
    "---"
   ]
  },
  {
   "cell_type": "markdown",
   "metadata": {},
   "source": [
    "## Optional Exercise\n",
    "### Try to reproduce, using markdown and the different tools the notebook affords you, the following WikiPedia entry:\n",
    "\n",
    "\n",
    "> https://en.wikipedia.org/wiki/Puppy\n"
   ]
  },
  {
   "cell_type": "code",
   "execution_count": 80,
   "metadata": {},
   "outputs": [
    {
     "data": {
      "text/html": [
       "\n",
       "        <iframe\n",
       "            width=\"700\"\n",
       "            height=\"500\"\n",
       "            src=\"https://en.wikipedia.org/wiki/Puppy\"\n",
       "            frameborder=\"0\"\n",
       "            allowfullscreen\n",
       "            \n",
       "        ></iframe>\n",
       "        "
      ],
      "text/plain": [
       "<IPython.lib.display.IFrame at 0x172d4a10350>"
      ]
     },
     "execution_count": 80,
     "metadata": {},
     "output_type": "execute_result"
    }
   ],
   "source": [
    "from IPython.display import IFrame\n",
    "IFrame('https://en.wikipedia.org/wiki/Puppy', 700, 500)"
   ]
  },
  {
   "cell_type": "markdown",
   "metadata": {},
   "source": [
    "Do not over think it. Focuse and pay special attention to getting the bold, italics, links, headlines and lists correctly formated, but don't worry too much about the overall layout. Bonus if you manage to insert the image as well (it does not need to be properly placed as in the original page)!"
   ]
  },
  {
   "cell_type": "code",
   "execution_count": 79,
   "metadata": {},
   "outputs": [],
   "source": [
    "# your code here\n"
   ]
  },
  {
   "cell_type": "markdown",
   "metadata": {},
   "source": [
    "# Puppy \n",
    "*This article is about the domestic dog. For other uses, see [Puppy (disambiguation)](https://en.wikipedia.org/wiki/Puppy_(disambiguation)).\"Baby dog\" redirects here. For the dog owned by Jim Justice, see [Babydog](https://en.wikipedia.org/wiki/Babydog).*\n",
    "\n",
    "[![](https://upload.wikimedia.org/wikipedia/commons/6/6e/Golde33443.jpg)](https://en.wikipedia.org/wiki/File:Golde33443.jpg)\n",
    "\n",
    "[Golden Retriever](https://en.wikipedia.org/wiki/Golden_Retriever \"Golden Retriever\") puppy\n",
    "\n",
    "[![](https://upload.wikimedia.org/wikipedia/commons/a/af/Cara_de_quem_caiu_do_caminh%C3%A3o..._%28cropped%29.jpg)](https://en.wikipedia.org/wiki/File:Cara_de_quem_caiu_do_caminh%C3%A3o..._(cropped).jpg)\n",
    "\n",
    "[Basset Hound](https://en.wikipedia.org/wiki/Basset_Hound \"Basset Hound\")\n",
    "\n",
    "[![](https://upload.wikimedia.org/wikipedia/commons/8/8c/New_born_pups.JPG)](https://en.wikipedia.org/wiki/File:New_born_pups.JPG)\n",
    "\n",
    "Newborn [Welsh Springer Spaniels](https://en.wikipedia.org/wiki/Welsh_Springer_Spaniel \"Welsh Springer Spaniel\")\n",
    "\n",
    "A **puppy** is a [juvenile](https://en.wikipedia.org/wiki/Juvenile_(organism) \"Juvenile (organism)\") [dog](https://en.wikipedia.org/wiki/Dog \"Dog\"). Some puppies can weigh 1–1.5 kg (2.2–3.3 lb), while larger ones can weigh over 7 kg (15 lb). All puppies display primary [altriciality](https://en.wikipedia.org/wiki/Altriciality \"Altriciality\") and healthy puppies grow quickly after birth. A puppy's coat color may change as the puppy grows older, as is commonly seen in breeds such as the [Yorkshire Terrier](https://en.wikipedia.org/wiki/Yorkshire_Terrier \"Yorkshire Terrier\"). _Puppy_ refers specifically to young dogs,[\\[1\\]](#cite_note-1) while _pup_ may be used for other animals such as [wolves](https://en.wikipedia.org/wiki/Wolf \"Wolf\"), [seals](https://en.wikipedia.org/wiki/Pinniped \"Pinniped\"), [giraffes](https://en.wikipedia.org/wiki/Giraffes \"Giraffes\"), [guinea pigs](https://en.wikipedia.org/wiki/Guinea_pigs \"Guinea pigs\"), [rats](https://en.wikipedia.org/wiki/Rats \"Rats\") or [sharks](https://en.wikipedia.org/wiki/Sharks \"Sharks\").[\\[2\\]](#cite_note-2)\n",
    "\n",
    "## Prenatal development\n",
    "--------------------\n",
    "\n",
    "Dogs go through [prenatal development](https://en.wikipedia.org/wiki/Prenatal_development \"Prenatal development\") before they are born, just like all animals do. The germinal stage, the embryonic stage, and the fetal stage are the three phases that make up this development.\n",
    "\n",
    "The first stage of prenatal growth in dogs is known as the germinal stage, which starts at fertilization and lasts for about two weeks. The fertilized egg, also known as the zygote, travels through the fallopian tube to the [uterus](https://en.wikipedia.org/wiki/Uterus \"Uterus\") during this period while undergoing rapid cell division. The [placenta](https://en.wikipedia.org/wiki/Placenta \"Placenta\"), which will feed the growing puppy, is formed once the zygote enters the uterus and settles in the uterine wall.[\\[3\\]](#cite_note-3)\n",
    "\n",
    "The embryonic period lasts from about day 14 of pregnancy until day 28 or so. With the growth of important organs and body systems, the embryo starts to take on a more recognizable shape at this stage. This involves the development of the digestive system, brain, heart, and lungs. An ultrasound can show the embryo at this time, which is about the size of a grape.[\\[4\\]](#cite_note-4)\n",
    "\n",
    "Around day 28 is when the fetal period starts, and it lasts until day 63, when the puppy is born. The puppy's organs and systems continue to develop and refine during this period of growth and development. It also involves the ability to control its own body temperature as well as the maturation of the senses, such as hearing and sight. The puppy is completely developed and prepared for birth by the time the fetal period is over.[\\[5\\]](#cite_note-5)\n",
    "\n",
    "## Development\n",
    "-----------\n",
    "\n",
    "Puppies are born after an average of 63 days of [gestation](https://en.wikipedia.org/wiki/Gestation \"Gestation\"), emerging in an [amnion](https://en.wikipedia.org/wiki/Amnion \"Amnion\") that is bitten off and eaten by the mother dog.[\\[6\\]](#cite_note-6) Puppies begin to [nurse](https://en.wikipedia.org/wiki/Lactation \"Lactation\") almost immediately. If the [litter](https://en.wikipedia.org/wiki/Litter_(animal) \"Litter (animal)\") exceeds six puppies, particularly if one or more are obvious [runts](https://en.wikipedia.org/wiki/Runt \"Runt\"), human intervention in hand-feeding the stronger puppies is necessary to ensure that the runts get proper nourishment and attention from the mother. As they reach one month of age, puppies are gradually [weaned](https://en.wikipedia.org/wiki/Weaning \"Weaning\") and begin to eat solid food. The mother may regurgitate partially digested food for the puppies or might let them eat some of her solid food.[\\[7\\]](#cite_note-7) The mother usually refuses to nurse at this stage, though she might let them occasionally nurse for comfort.\n",
    "\n",
    "At first, puppies spend the large majority of their time sleeping and the rest feeding. They instinctively pile together into a heap, and become distressed if separated from physical contact with their littermates by even a short distance.[\\[8\\]](#cite_note-8)\n",
    "\n",
    "Puppies are born with a fully functional sense of smell. They are unable to open their eyes. During their first two weeks, a puppy's senses all develop rapidly. During this stage the nose is the primary sense organ used by puppies to find their mother's teats, and to locate their littermates, if they become separated by a short distance. Puppies open their [eyes](https://en.wikipedia.org/wiki/Eye \"Eye\") about nine to eleven days following [birth](https://en.wikipedia.org/wiki/Birth \"Birth\"). At first, their [retinas](https://en.wikipedia.org/wiki/Retinas \"Retinas\") are poorly developed and their vision is poor. Puppies are not able to see as well as adult dogs. In addition, puppies' ears remain sealed until about thirteen to seventeen days after birth, after which they respond more actively to sounds. Between two and four weeks old, puppies usually begin to growl, bite, wag their tails, and bark.[\\[9\\]](#cite_note-9)\n",
    "\n",
    "Puppies develop very quickly during their first three months, particularly after their eyes and ears open and they are no longer completely dependent on their mother. Their coordination and strength improve, they [spar](https://en.wikipedia.org/wiki/Sparring \"Sparring\") with their littermates, and begin to explore the world outside the nest. They play wrestling, chase, dominance, and tug-of-war games.\n",
    "\n",
    "A puppy [Chihuahua](https://en.wikipedia.org/wiki/Chihuahua_(dog) \"Chihuahua (dog)\") (right) and puppy [Toy Poodle](https://en.wikipedia.org/wiki/Toy_Poodle \"Toy Poodle\") playing in a [Tokyo](https://en.wikipedia.org/wiki/Tokyo \"Tokyo\") [pet store](https://en.wikipedia.org/wiki/Pet_store \"Pet store\"), 2020\n",
    "\n",
    "[![](https://upload.wikimedia.org/wikipedia/commons/5/59/2017-07-06_Hunde_Berlin-Karow_08.jpg)](https://en.wikipedia.org/wiki/File:2017-07-06_Hunde_Berlin-Karow_08.jpg)\n",
    "\n",
    "A [labradoodle](https://en.wikipedia.org/wiki/Labradoodle \"Labradoodle\") puppy and a [Golden Retriever](https://en.wikipedia.org/wiki/Golden_Retriever \"Golden Retriever\") puppy playing together\n",
    "\n",
    "Puppies are highly social animals and spend most of their waking hours interacting with either their mother or littermates. When puppies are socialized with humans, particularly between the ages of eight and twelve weeks, they develop social skills around people. Those that do not receive adequate socialization during this period may display fearful behavior around humans or other dogs as adults. The optimum period for socialisation is between eight and twelve weeks; professional animal trainers and the [American Kennel Club](https://en.wikipedia.org/wiki/American_Kennel_Club \"American Kennel Club\") advise puppies should be introduced to \"100 People by 12 Weeks\" and have encountered a wide and varied selection of people and environments.[\\[10\\]](#cite_note-10)\n",
    "\n",
    "## Docking and declawing\n",
    "---------------------\n",
    "\n",
    "The practice of [docking](https://en.wikipedia.org/wiki/Docking_(dog) \"Docking (dog)\") began primarily as a preventive measure for injury among working dogs. Docking is now primarily performed for purely cosmetic reasons, and some breeds traditionally have their tails cropped anywhere from slightly to almost entirely.[\\[11\\]](#cite_note-11) Many countries now ban cropping and docking for cosmetic purposes, including Australia, parts of Canada, the majority of the European countries (Austria, Greece, Finland, Netherlands, Italy, the Czech Republic, Turkey, Poland, Slovakia, England, Scotland, Slovenia, Ireland, Norway and Sweden), while others, such as the United States, permit it. As of 2008, the practice is opposed by the [American Veterinary Medical Association](https://en.wikipedia.org/wiki/American_Veterinary_Medical_Association \"American Veterinary Medical Association\").[\\[12\\]](#cite_note-AVMA_policy:_Ear_Cropping_and_Tail_Docking_of_Dogs-12) Some breeders also prefer to declaw the dogs to prevent future injuries caused by scratching, or in the case of [dewclaws](https://en.wikipedia.org/wiki/Dewclaw \"Dewclaw\"), ingrown and ripped-off nails. Docking and declawing procedures are usually performed within the first few days after birth, by a [veterinarian](https://en.wikipedia.org/wiki/Veterinarian \"Veterinarian\"), or by an experienced breeder.\n",
    "\n",
    "## Gallery\n",
    "-------\n",
    "\n",
    "*   [![Australian Cattle Dog puppy](https://upload.wikimedia.org/wikipedia/commons/b/b1/ACD_Silverbarn%27s_Ronja_x.jpg)](https://en.wikipedia.org/wiki/File:ACD_Silverbarn%27s_Ronja_x.jpg \"Australian Cattle Dog puppy\")\n",
    "    \n",
    "*   [![A mongrel puppy](https://upload.wikimedia.org/wikipedia/commons/c/c4/Abandoned_Dog.jpg)](https://en.wikipedia.org/wiki/File:Abandoned_Dog.jpg \"A mongrel puppy\")\n",
    "    \n",
    "    A mongrel puppy\n",
    "    \n",
    "*   [![West Highland White Terrier puppies](https://upload.wikimedia.org/wikipedia/commons/1/17/Westie_pups.jpg)](https://en.wikipedia.org/wiki/File:Westie_pups.jpg \"West Highland White Terrier puppies\")\n",
    "    \n",
    "*   [![St. Bernard puppy](https://upload.wikimedia.org/wikipedia/commons/7/71/St._Bernard_puppy.jpg)](https://en.wikipedia.org/wiki/File:St._Bernard_puppy.jpg \"St. Bernard puppy\")\n",
    "    \n",
    "    St. Bernard puppy\n",
    "    \n",
    "*   [![Cavapoo puppy](https://upload.wikimedia.org/wikipedia/commons/8/84/Image-Cavapoo_puppy.JPG)](https://en.wikipedia.org/wiki/File:Image-Cavapoo_puppy.JPG \"Cavapoo puppy\")\n",
    "    \n",
    "*   [![Bloodhound puppy](https://upload.wikimedia.org/wikipedia/commons/a/aa/Beulah_at_Five_%26_A_Half_Weeks_on_Jan_Coffman%27s_Farm%2C_Walkerville%2C_MD_June_1999_by_Asilverstein.jpg)](https://en.wikipedia.org/wiki/File:Beulah_at_Five_%26_A_Half_Weeks_on_Jan_Coffman%27s_Farm,_Walkerville,_MD_June_1999_by_Asilverstein.jpg \"Bloodhound puppy\")\n",
    "    \n",
    "*   [![Chihuahua puppy](https://upload.wikimedia.org/wikipedia/commons/0/0b/Chihuahua_puppy_001.jpg)](https://en.wikipedia.org/wiki/File:Chihuahua_puppy_001.jpg \"Chihuahua puppy\")\n",
    "    \n",
    "    Chihuahua puppy\n",
    "    \n",
    "*   [![Jack Russell Terrier puppy](https://upload.wikimedia.org/wikipedia/commons/6/68/Szczenie_Jack_Russell_Terrier3.jpg)](https://en.wikipedia.org/wiki/File:Szczenie_Jack_Russell_Terrier3.jpg \"Jack Russell Terrier puppy\")\n",
    "    \n",
    "*   [![Puggle puppy](https://upload.wikimedia.org/wikipedia/commons/5/50/Puggle_puppy_%28cropped%29.jpg)](https://en.wikipedia.org/wiki/File:Puggle_puppy_(cropped).jpg \"Puggle puppy\")\n",
    "    \n",
    "*   [![Newborn Basenji puppies](https://upload.wikimedia.org/wikipedia/commons/7/72/Basenji_puppies.jpg)](https://en.wikipedia.org/wiki/File:Basenji_puppies.jpg \"Newborn Basenji puppies\")\n",
    "    \n",
    "*   [![German Spitz puppy](https://upload.wikimedia.org/wikipedia/commons/2/2c/German_Spitz_puppy.jpg)](https://en.wikipedia.org/wiki/File:German_Spitz_puppy.jpg \"German Spitz puppy\")\n",
    "    \n",
    "*   [![A little mongrel puppy on the shore, on Halong Bay](https://upload.wikimedia.org/wikipedia/commons/c/c7/Puppy_on_Halong_Bay.jpg)](https://en.wikipedia.org/wiki/File:Puppy_on_Halong_Bay.jpg \"A little mongrel puppy on the shore, on Halong Bay\")\n",
    "    \n",
    "    A little [mongrel](https://en.wikipedia.org/wiki/Mongrel \"Mongrel\") puppy on the shore, on [Halong Bay](https://en.wikipedia.org/wiki/Halong_Bay \"Halong Bay\")\n",
    "    \n",
    "*   [![Basenji puppy](https://upload.wikimedia.org/wikipedia/commons/f/ff/Raskal.jpg)](https://en.wikipedia.org/wiki/File:Raskal.jpg \"Basenji puppy\")\n",
    "    \n",
    "*   [![Two Shih Tzu puppies](https://upload.wikimedia.org/wikipedia/commons/b/b6/Two_red_and_white_haired_shih_tzu_littermates.jpg)](https://en.wikipedia.org/wiki/File:Two_red_and_white_haired_shih_tzu_littermates.jpg \"Two Shih Tzu puppies\")\n",
    "    \n",
    "*   [![President Lyndon B. Johnson with a basket of puppies in 1966](https://upload.wikimedia.org/wikipedia/commons/4/47/President_Lyndon_B._Johnson_and_his_puppies.jpg)](https://en.wikipedia.org/wiki/File:President_Lyndon_B._Johnson_and_his_puppies.jpg \"President Lyndon B. Johnson with a basket of puppies in 1966\")\n",
    "    \n",
    "    President [Lyndon B. Johnson](https://en.wikipedia.org/wiki/Lyndon_B._Johnson \"Lyndon B. Johnson\") with a basket of puppies in 1966\n",
    "    \n",
    "\n",
    "## References\n",
    "----------\n",
    "\n",
    "1.   [\"Puppy\"](https://www.merriam-webster.com/dictionary/puppy). _Merriam-Webster_. Retrieved April 30, 2018.\n",
    "2.   [\"Pup\"](https://www.merriam-webster.com/dictionary/pup). _Merriam-Webster_. Retrieved April 30, 2018.\n",
    "3.   Pretzer, S. D. (2008-08-01). [\"Canine embryonic and fetal development: A review\"](https://www.sciencedirect.com/science/article/pii/S0093691X08002185). _Theriogenology_. Proceedings of the Annual Conference of the Society for Theriogenology. **70** (3): 300–303. [doi](https://en.wikipedia.org/wiki/Doi_(identifier) \"Doi (identifier)\"):[10.1016/j.theriogenology.2008.04.029](https://doi.org/10.1016%2Fj.theriogenology.2008.04.029). [ISSN](https://en.wikipedia.org/wiki/ISSN_(identifier) \"ISSN (identifier)\") [0093-691X](https://search.worldcat.org/issn/0093-691X).\n",
    "4.   Themes, U. F. O. (2016-07-18). [\"Prenatal Development\"](https://veteriankey.com/prenatal-development/). _Veterian Key_. Retrieved 2023-02-20.\n",
    "5.   Pretzer, S. D. (2008-08-01). [\"Canine embryonic and fetal development: A review\"](https://www.sciencedirect.com/science/article/pii/S0093691X08002185). _Theriogenology_. Proceedings of the Annual Conference of the Society for Theriogenology. **70** (3): 300–303. [doi](https://en.wikipedia.org/wiki/Doi_(identifier) \"Doi (identifier)\"):[10.1016/j.theriogenology.2008.04.029](https://doi.org/10.1016%2Fj.theriogenology.2008.04.029). [ISSN](https://en.wikipedia.org/wiki/ISSN_(identifier) \"ISSN (identifier)\") [0093-691X](https://search.worldcat.org/issn/0093-691X).\n",
    "6.   Whitehead, Sarah. _Dog: The complete guide_, 1999, page 158\n",
    "7.   Coren, Stanley. _Why Does My Dog Act That Way?: A Complete Guide to Your Dog's Personality_, 2006, page 44\n",
    "8.   Larkin, Peter. _The ultimate encyclopedia of dogs, dog breeds & dog care_, 2006, page 53\n",
    "9.   White, Linda. _First Steps with Puppies and Kittens: A Practice-Team Approach to Behavior_, 2009, page 54\n",
    "10.   Paddock, Arliss. [\"The Importance of Puppy Socialization\"](https://web.archive.org/web/20140202175318/http://classic.akc.org/enewsletter/yourakc/2009/march/puppy.cfm). [American Kennel Club](https://en.wikipedia.org/wiki/American_Kennel_Club \"American Kennel Club\"). Archived from [the original](http://classic.akc.org/enewsletter/yourakc/2009/march/puppy.cfm) on 2 February 2014. Retrieved 28 January 2014.\n",
    "11.   Serpell, James A. _Companion Animals And Us: Exploring the Relationships Between People and Pets_, 2000, page 307\n",
    "12.   [AVMA.org](https://www.avma.org/News/JAVMANews/Pages/081215c.aspx), AVMA opposes cosmetic ear cropping, tail docking of dogs - December 15, 2008\n",
    "\n",
    "Further reading\n",
    "---------------\n",
    "\n",
    "*   Cunliffe, Juliette (2004). _The Encyclopedia of Dog Breeds_. Parragon Publishing. [ISBN](https://en.wikipedia.org/wiki/ISBN_(identifier) \"ISBN (identifier)\") [0-7525-8276-3](https://en.wikipedia.org/wiki/Special:BookSources/0-7525-8276-3 \"Special:BookSources/0-7525-8276-3\").\n",
    "*   Fogle, Bruce (2000). [_The New Encyclopedia of the Dog_](https://archive.org/details/newencyclopediao00fogl). Doring Kindersley (DK). [ISBN](https://en.wikipedia.org/wiki/ISBN_(identifier) \"ISBN (identifier)\") [0-7894-6130-7](https://en.wikipedia.org/wiki/Special:BookSources/0-7894-6130-7 \"Special:BookSources/0-7894-6130-7\").\n",
    "*   Mehus-Roe, Kristin, ed. (2005). [_Dog Bible_](https://archive.org/details/originaldogbible00mehu). BowTie. [ISBN](https://en.wikipedia.org/wiki/ISBN_(identifier) \"ISBN (identifier)\") [1-931993-34-3](https://en.wikipedia.org/wiki/Special:BookSources/1-931993-34-3 \"Special:BookSources/1-931993-34-3\")."
   ]
  }
 ],
 "metadata": {
  "kernelspec": {
   "display_name": "Python 3",
   "language": "python",
   "name": "python3"
  },
  "language_info": {
   "codemirror_mode": {
    "name": "ipython",
    "version": 3
   },
   "file_extension": ".py",
   "mimetype": "text/x-python",
   "name": "python",
   "nbconvert_exporter": "python",
   "pygments_lexer": "ipython3",
   "version": "3.12.5"
  }
 },
 "nbformat": 4,
 "nbformat_minor": 4
}
